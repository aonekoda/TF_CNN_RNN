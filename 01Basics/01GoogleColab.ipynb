{
  "nbformat": 4,
  "nbformat_minor": 0,
  "metadata": {
    "colab": {
      "name": "01GoogleColab.ipynb",
      "provenance": [],
      "collapsed_sections": []
    },
    "kernelspec": {
      "display_name": "Python 3",
      "language": "python",
      "name": "python3"
    },
    "language_info": {
      "codemirror_mode": {
        "name": "ipython",
        "version": 3
      },
      "file_extension": ".py",
      "mimetype": "text/x-python",
      "name": "python",
      "nbconvert_exporter": "python",
      "pygments_lexer": "ipython3",
      "version": "3.7.1"
    }
  },
  "cells": [
    {
      "cell_type": "markdown",
      "metadata": {
        "colab_type": "text",
        "id": "nWq-i4RHmA12"
      },
      "source": [
        "# 구글 Colab사용하기\n",
        "\n",
        "[구글 Colab에서 실행하기](https://colab.research.google.com/github/aonekoda/TF_CNN_RNN/blob/master/01Basics/01GoogleColab.ipynb)"
      ]
    },
    {
      "cell_type": "markdown",
      "metadata": {
        "colab_type": "text",
        "id": "iUBUnLj5mXPj"
      },
      "source": [
        "**실행 환경 살펴보기**"
      ]
    },
    {
      "cell_type": "code",
      "metadata": {
        "colab_type": "code",
        "id": "juPplGXhf8LC",
        "colab": {}
      },
      "source": [
        "# OS\n",
        "!cat /etc/issue.net"
      ],
      "execution_count": 0,
      "outputs": []
    },
    {
      "cell_type": "code",
      "metadata": {
        "colab_type": "code",
        "id": "wuAEhUEpf-69",
        "colab": {}
      },
      "source": [
        "# CPU 사양\n",
        "!head /proc/cpuinfo"
      ],
      "execution_count": 0,
      "outputs": []
    },
    {
      "cell_type": "code",
      "metadata": {
        "colab_type": "code",
        "id": "Ls34Z1KHgFao",
        "colab": {}
      },
      "source": [
        "# 메모리 사양\n",
        "!head -n 3 /proc/meminfo"
      ],
      "execution_count": 0,
      "outputs": []
    },
    {
      "cell_type": "code",
      "metadata": {
        "colab_type": "code",
        "id": "lu0xkWSVgUoy",
        "colab": {}
      },
      "source": [
        "# 디스크 사양\n",
        "!df -h"
      ],
      "execution_count": 0,
      "outputs": []
    },
    {
      "cell_type": "code",
      "metadata": {
        "colab_type": "code",
        "id": "OgWrNUDTgpXG",
        "colab": {}
      },
      "source": [
        "# 파이썬 버젼\n",
        "!python --version"
      ],
      "execution_count": 0,
      "outputs": []
    },
    {
      "cell_type": "markdown",
      "metadata": {
        "colab_type": "text",
        "id": "SXVuqsI6kSLH"
      },
      "source": [
        "런타임 유형을 GPU로 변경한 이후에는 !nvidia-smi 명령어로 GPU 사양을 확인 할 수 있다."
      ]
    },
    {
      "cell_type": "code",
      "metadata": {
        "colab_type": "code",
        "id": "t2HBQboekOr8",
        "colab": {}
      },
      "source": [
        "!nvidia-smi"
      ],
      "execution_count": 0,
      "outputs": []
    },
    {
      "cell_type": "markdown",
      "metadata": {
        "colab_type": "text",
        "id": "TnSWbmAikrXS"
      },
      "source": [
        "**구글 드라이브 연동하기**"
      ]
    },
    {
      "cell_type": "code",
      "metadata": {
        "colab_type": "code",
        "id": "ONyUU3yokqpB",
        "colab": {}
      },
      "source": [
        "from google.colab import drive\n",
        "drive.mount('/content/drive')"
      ],
      "execution_count": 0,
      "outputs": []
    },
    {
      "cell_type": "code",
      "metadata": {
        "colab_type": "code",
        "id": "bhZh_viDk-Hy",
        "colab": {}
      },
      "source": [
        "!ls '/content/drive/'"
      ],
      "execution_count": 0,
      "outputs": []
    },
    {
      "cell_type": "markdown",
      "metadata": {
        "colab_type": "text",
        "id": "8gA37fJjn91x"
      },
      "source": [
        "마운트한 드라이브에 임의의 디렉토리를 생성하고 파일을 작성하여 테스트 해보자."
      ]
    },
    {
      "cell_type": "code",
      "metadata": {
        "colab_type": "code",
        "id": "fSfvQlvCk-5Y",
        "colab": {}
      },
      "source": [
        "!mkdir -p '/content/drive/My Drive/test_colab'\n",
        "!ls -Fcal '/content/drive/My Drive/test_colab'"
      ],
      "execution_count": 0,
      "outputs": []
    },
    {
      "cell_type": "code",
      "metadata": {
        "colab_type": "code",
        "id": "ixMtI9SolGRN",
        "colab": {}
      },
      "source": [
        "import numpy as np\n",
        "import pandas as pd\n",
        "\n",
        "df = pd.DataFrame(np.random.rand(10, 5))\n",
        "df.to_csv(\"/content/drive/My Drive/test_colab/df.csv\")"
      ],
      "execution_count": 0,
      "outputs": []
    },
    {
      "cell_type": "code",
      "metadata": {
        "colab_type": "code",
        "id": "G16xWhgolJtR",
        "colab": {}
      },
      "source": [
        "!ls -Fcal '/content/drive/My Drive/test_colab'"
      ],
      "execution_count": 0,
      "outputs": []
    },
    {
      "cell_type": "code",
      "metadata": {
        "colab_type": "code",
        "id": "FQLuzN6wlNwT",
        "colab": {}
      },
      "source": [
        "pd.read_csv(\"/content/drive/My Drive/test_colab/df.csv\")"
      ],
      "execution_count": 0,
      "outputs": []
    },
    {
      "cell_type": "code",
      "metadata": {
        "colab_type": "code",
        "id": "WBhtRaullQaY",
        "colab": {}
      },
      "source": [
        "!rm -rf \"/content/drive/My Drive/test_colab/df.csv\""
      ],
      "execution_count": 0,
      "outputs": []
    },
    {
      "cell_type": "markdown",
      "metadata": {
        "id": "C0Q-kZogDeYi",
        "colab_type": "text"
      },
      "source": [
        "## github repository를 clone하기"
      ]
    },
    {
      "cell_type": "code",
      "metadata": {
        "id": "mx7U0wPcDeYi",
        "colab_type": "code",
        "colab": {}
      },
      "source": [
        "cd '/content/drive/My Drive'"
      ],
      "execution_count": 0,
      "outputs": []
    },
    {
      "cell_type": "code",
      "metadata": {
        "id": "U7qkHyVjDeYk",
        "colab_type": "code",
        "colab": {}
      },
      "source": [
        "!git clone https://github.com/aonekoda/TF_CNN_RNN.git"
      ],
      "execution_count": 0,
      "outputs": []
    },
    {
      "cell_type": "markdown",
      "metadata": {
        "id": "WHn9NxLPDeYm",
        "colab_type": "text"
      },
      "source": [
        "**[실습]** \n",
        "\n",
        "1. 현재 directory를 출력하시오 (pwd)\n",
        "2. / (루트 디렉토리)로 이동(cd)하여 해당 디렉토리의 파일 목록을 출력하시오.(ls -al)"
      ]
    }
  ]
}