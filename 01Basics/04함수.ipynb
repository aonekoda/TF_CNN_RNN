{
 "cells": [
  {
   "cell_type": "code",
   "execution_count": null,
   "metadata": {},
   "outputs": [],
   "source": [
    "#함수를 선언한다. \n",
    "def sum(num1, num2) :\n",
    "    result = num1+num2\n",
    "    return result\n",
    "\n",
    "# 함수를 호출한다.\n",
    "\n",
    "num = sum(100, 200)\n",
    "print(num)\n"
   ]
  },
  {
   "cell_type": "code",
   "execution_count": null,
   "metadata": {},
   "outputs": [],
   "source": [
    "def printInfo (name, job, age=20, address='서울') :\n",
    "    print('이름:{}, 직업:{}, 나이:{}, 주소:{}'.format(name,job,age,address))\n",
    "    \n",
    "printInfo(name='이선화',job='강사')\n",
    "printInfo(address='인천', name='강동원', job='배우')"
   ]
  },
  {
   "cell_type": "code",
   "execution_count": 3,
   "metadata": {},
   "outputs": [
    {
     "name": "stdout",
     "output_type": "stream",
     "text": [
      "이선화\n",
      "정우성\n",
      "심은하\n",
      "박보검\n",
      "강동원\n"
     ]
    }
   ],
   "source": [
    "def print_func(* num) :\n",
    "    for i in num:\n",
    "        print(i)\n",
    "\n",
    "print_func('이선화','정우성','심은하', '박보검','강동원')"
   ]
  },
  {
   "cell_type": "code",
   "execution_count": 6,
   "metadata": {},
   "outputs": [
    {
     "name": "stdout",
     "output_type": "stream",
     "text": [
      "이선화\n",
      "강사\n",
      "20\n"
     ]
    }
   ],
   "source": [
    "def printinfo(** info) :\n",
    "    for a in info.keys() :\n",
    "        print(info[a])\n",
    "\n",
    "printinfo(name='이선화', job='강사', age=20)"
   ]
  },
  {
   "cell_type": "markdown",
   "metadata": {},
   "source": [
    "# 함수 실습"
   ]
  },
  {
   "cell_type": "code",
   "execution_count": 10,
   "metadata": {},
   "outputs": [
    {
     "name": "stdout",
     "output_type": "stream",
     "text": [
      "340\n"
     ]
    }
   ],
   "source": [
    "def sum(num1, num2):\n",
    "    return num1+num2\n",
    "\n",
    "print(sum(90, 250))"
   ]
  },
  {
   "cell_type": "code",
   "execution_count": 11,
   "metadata": {},
   "outputs": [
    {
     "name": "stdout",
     "output_type": "stream",
     "text": [
      "74.275\n"
     ]
    }
   ],
   "source": [
    "def avg_score(* score):\n",
    "    tot= 0\n",
    "    for i in score:\n",
    "        tot = tot + i\n",
    "    avg = tot / len(score)\n",
    "    return avg\n",
    "\n",
    "print(avg_score(90,80,43,84.100))"
   ]
  }
 ],
 "metadata": {
  "kernelspec": {
   "display_name": "Python 3",
   "language": "python",
   "name": "python3"
  },
  "language_info": {
   "codemirror_mode": {
    "name": "ipython",
    "version": 3
   },
   "file_extension": ".py",
   "mimetype": "text/x-python",
   "name": "python",
   "nbconvert_exporter": "python",
   "pygments_lexer": "ipython3",
   "version": "3.7.1"
  }
 },
 "nbformat": 4,
 "nbformat_minor": 2
}
