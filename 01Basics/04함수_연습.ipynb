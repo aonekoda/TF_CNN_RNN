{
 "cells": [
  {
   "cell_type": "markdown",
   "metadata": {},
   "source": [
    "# 함수 연습문제\n",
    "___"
   ]
  },
  {
   "cell_type": "markdown",
   "metadata": {},
   "source": [
    "1. 숫자를 parameter로 받아 짝수/홀수를 구분하는 odd_even 함수를 만드시오.\n",
    ">- 숫자를 입력으로 받는다.\n",
    ">- 짝수면 \"짝수\", 홀수면 \"홀수\"를 return 한다."
   ]
  },
  {
   "cell_type": "code",
   "execution_count": null,
   "metadata": {},
   "outputs": [],
   "source": []
  },
  {
   "cell_type": "markdown",
   "metadata": {},
   "source": [
    "2. 숫자 2개를 입력으로 받아 그 숫자의 합과 차를 리턴하는 함수를 만드시오.\n",
    ">- 숫자를 2개 입력받는다.\n",
    ">- 그 2개 숫자의 합과 차를 구하여 tuple로 리턴한다."
   ]
  },
  {
   "cell_type": "code",
   "execution_count": null,
   "metadata": {},
   "outputs": [],
   "source": []
  }
 ],
 "metadata": {
  "kernelspec": {
   "display_name": "Python 3",
   "language": "python",
   "name": "python3"
  },
  "language_info": {
   "codemirror_mode": {
    "name": "ipython",
    "version": 3
   },
   "file_extension": ".py",
   "mimetype": "text/x-python",
   "name": "python",
   "nbconvert_exporter": "python",
   "pygments_lexer": "ipython3",
   "version": "3.7.1"
  }
 },
 "nbformat": 4,
 "nbformat_minor": 2
}
